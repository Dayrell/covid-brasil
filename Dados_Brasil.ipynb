{
  "nbformat": 4,
  "nbformat_minor": 0,
  "metadata": {
    "colab": {
      "name": "Dados-Brasil.ipynb",
      "provenance": [],
      "authorship_tag": "ABX9TyOziyn0kOZ2fV3UAN94mhrx",
      "include_colab_link": true
    },
    "kernelspec": {
      "name": "python3",
      "display_name": "Python 3"
    }
  },
  "cells": [
    {
      "cell_type": "markdown",
      "metadata": {
        "id": "view-in-github",
        "colab_type": "text"
      },
      "source": [
        "<a href=\"https://colab.research.google.com/github/Dayrell/covid-brasil/blob/master/Dados_Brasil.ipynb\" target=\"_parent\"><img src=\"https://colab.research.google.com/assets/colab-badge.svg\" alt=\"Open In Colab\"/></a>"
      ]
    },
    {
      "cell_type": "markdown",
      "metadata": {
        "id": "3bWE-3tPqRgr",
        "colab_type": "text"
      },
      "source": [
        "**Instalando dependências e consigurando o Spark**"
      ]
    },
    {
      "cell_type": "code",
      "metadata": {
        "id": "hCHs-VBzp0Nl",
        "colab_type": "code",
        "colab": {}
      },
      "source": [
        "# instalar as dependências\n",
        "!apt-get install openjdk-8-jdk-headless -qq > /dev/null\n",
        "!wget -q https://archive.apache.org/dist/spark/spark-2.4.4/spark-2.4.4-bin-hadoop2.7.tgz\n",
        "!tar xf spark-2.4.4-bin-hadoop2.7.tgz\n",
        "!pip install -q findspark"
      ],
      "execution_count": 0,
      "outputs": []
    },
    {
      "cell_type": "code",
      "metadata": {
        "id": "HfVeZXZfp-Lm",
        "colab_type": "code",
        "colab": {}
      },
      "source": [
        "# configurar as variáveis de ambiente\n",
        "import os\n",
        "os.environ[\"JAVA_HOME\"] = \"/usr/lib/jvm/java-8-openjdk-amd64\"\n",
        "os.environ[\"SPARK_HOME\"] = \"/content/spark-2.4.4-bin-hadoop2.7\"\n",
        "\n",
        "# tornar o pyspark \"importável\"\n",
        "import findspark\n",
        "findspark.init('spark-2.4.4-bin-hadoop2.7')"
      ],
      "execution_count": 0,
      "outputs": []
    },
    {
      "cell_type": "code",
      "metadata": {
        "id": "AehqQ3cgpjNE",
        "colab_type": "code",
        "colab": {}
      },
      "source": [
        "import pandas as pd\n",
        "import requests\n",
        "import io\n",
        "import csv\n",
        "\n",
        "from pyspark.sql import SparkSession\n",
        "from pyspark.sql.functions import udf, col\n",
        "from pyspark.sql.types import TimestampType\n",
        "from pyspark.sql import functions as F"
      ],
      "execution_count": 0,
      "outputs": []
    },
    {
      "cell_type": "markdown",
      "metadata": {
        "id": "uDKxs2AIqZnf",
        "colab_type": "text"
      },
      "source": [
        "**Obtendo e salvando dados no BrasilIO**"
      ]
    },
    {
      "cell_type": "code",
      "metadata": {
        "id": "q_pCodEcm5Kg",
        "colab_type": "code",
        "colab": {}
      },
      "source": [
        "url = 'https://brasil.io/dataset/covid19/caso_full/?format=csv'\n",
        "response = requests.get(url)        \n",
        "\n",
        "with open('covid.csv', 'w') as f:\n",
        "    writer = csv.writer(f)\n",
        "    for line in response.iter_lines():\n",
        "        writer.writerow(line.decode('utf-8').split(','))"
      ],
      "execution_count": 0,
      "outputs": []
    },
    {
      "cell_type": "markdown",
      "metadata": {
        "id": "uJ2XmJPqpapJ",
        "colab_type": "text"
      },
      "source": [
        "**Criando Spark session e lendo o json**"
      ]
    },
    {
      "cell_type": "code",
      "metadata": {
        "id": "eHNnbJ_cpaY3",
        "colab_type": "code",
        "colab": {}
      },
      "source": [
        "def create_spark_session():\n",
        "    spark = SparkSession \\\n",
        "        .builder \\\n",
        "        .master('local[*]') \\\n",
        "        .config(\"spark.jars.packages\", \"org.apache.hadoop:hadoop-aws:2.7.0\") \\\n",
        "        .getOrCreate()\n",
        "    return spark"
      ],
      "execution_count": 0,
      "outputs": []
    },
    {
      "cell_type": "code",
      "metadata": {
        "id": "TV8mAdfwnE3q",
        "colab_type": "code",
        "colab": {}
      },
      "source": [
        "spark = create_spark_session()"
      ],
      "execution_count": 0,
      "outputs": []
    },
    {
      "cell_type": "code",
      "metadata": {
        "id": "tgXP1l1mnQuw",
        "colab_type": "code",
        "colab": {}
      },
      "source": [
        "df = spark.read.csv('covid.csv', header=True, inferSchema=True)"
      ],
      "execution_count": 0,
      "outputs": []
    },
    {
      "cell_type": "code",
      "metadata": {
        "id": "yQGDGe523gdM",
        "colab_type": "code",
        "outputId": "740f6402-68fb-4239-9045-c5c9c319436c",
        "colab": {
          "base_uri": "https://localhost:8080/",
          "height": 330
        }
      },
      "source": [
        "df.printSchema()"
      ],
      "execution_count": 0,
      "outputs": [
        {
          "output_type": "stream",
          "text": [
            "root\n",
            " |-- epidemiological_week: integer (nullable = true)\n",
            " |-- date: timestamp (nullable = true)\n",
            " |-- order_for_place: integer (nullable = true)\n",
            " |-- state: string (nullable = true)\n",
            " |-- city: string (nullable = true)\n",
            " |-- city_ibge_code: integer (nullable = true)\n",
            " |-- place_type: string (nullable = true)\n",
            " |-- last_available_confirmed: integer (nullable = true)\n",
            " |-- last_available_confirmed_per_100k_inhabitants: double (nullable = true)\n",
            " |-- new_confirmed: integer (nullable = true)\n",
            " |-- last_available_deaths: integer (nullable = true)\n",
            " |-- new_deaths: integer (nullable = true)\n",
            " |-- last_available_death_rate: double (nullable = true)\n",
            " |-- estimated_population_2019: integer (nullable = true)\n",
            " |-- is_last: boolean (nullable = true)\n",
            " |-- is_repeated: boolean (nullable = true)\n",
            "\n"
          ],
          "name": "stdout"
        }
      ]
    },
    {
      "cell_type": "markdown",
      "metadata": {
        "id": "D3ykbfgT2WBa",
        "colab_type": "text"
      },
      "source": [
        "**Removendo linhas nulas**"
      ]
    },
    {
      "cell_type": "code",
      "metadata": {
        "id": "hdpcpW_-2ZKQ",
        "colab_type": "code",
        "colab": {}
      },
      "source": [
        "df = df.where(col(\"epidemiological_week\").isNotNull())"
      ],
      "execution_count": 0,
      "outputs": []
    },
    {
      "cell_type": "markdown",
      "metadata": {
        "id": "cVDlnoo3uN83",
        "colab_type": "text"
      },
      "source": [
        "**Criando df para estados e para cidades**"
      ]
    },
    {
      "cell_type": "code",
      "metadata": {
        "id": "pZ1gmnvFt616",
        "colab_type": "code",
        "colab": {}
      },
      "source": [
        "df_estados = df.where(col(\"city\").isNull()).sort(col(\"date\"))\n",
        "df_cidades = df.where(col(\"city\").isNotNull()).sort(col(\"date\"))"
      ],
      "execution_count": 0,
      "outputs": []
    },
    {
      "cell_type": "code",
      "metadata": {
        "id": "pMbKtU5XrtPt",
        "colab_type": "code",
        "colab": {}
      },
      "source": [
        "# df.agg(F.sum(\"new_deaths\")).collect()\n",
        "# df.drop_duplicates(['date', 'place_type']).show(truncate=False)"
      ],
      "execution_count": 0,
      "outputs": []
    },
    {
      "cell_type": "code",
      "metadata": {
        "id": "NZdIO2btsAgr",
        "colab_type": "code",
        "outputId": "2fd8f71d-b620-49ba-feff-b59dfc8a83fe",
        "colab": {
          "base_uri": "https://localhost:8080/",
          "height": 34
        }
      },
      "source": [
        "df_estados.select(F.sum('new_deaths')).collect()[0][0]"
      ],
      "execution_count": 0,
      "outputs": [
        {
          "output_type": "execute_result",
          "data": {
            "text/plain": [
              "34706"
            ]
          },
          "metadata": {
            "tags": []
          },
          "execution_count": 127
        }
      ]
    },
    {
      "cell_type": "code",
      "metadata": {
        "id": "sH3GWrgGwCHN",
        "colab_type": "code",
        "outputId": "c3edb654-6605-4ba6-f716-1e2b3e847cc2",
        "colab": {
          "base_uri": "https://localhost:8080/",
          "height": 34
        }
      },
      "source": [
        "df_cidades.select(F.sum('new_deaths')).collect()[0][0]"
      ],
      "execution_count": 0,
      "outputs": [
        {
          "output_type": "execute_result",
          "data": {
            "text/plain": [
              "34706"
            ]
          },
          "metadata": {
            "tags": []
          },
          "execution_count": 128
        }
      ]
    },
    {
      "cell_type": "code",
      "metadata": {
        "id": "NA73iWfJ33dv",
        "colab_type": "code",
        "colab": {}
      },
      "source": [
        ""
      ],
      "execution_count": 0,
      "outputs": []
    }
  ]
}